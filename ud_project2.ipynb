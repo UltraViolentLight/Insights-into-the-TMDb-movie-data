{
 "cells": [
  {
   "cell_type": "markdown",
   "metadata": {},
   "source": [
    "# Project: Insights into the TMDb movie data\n",
    "\n",
    "## Table of Contents\n",
    "<ul>\n",
    "<li><a href=\"#intro\">Introduction</a></li>\n",
    "<li><a href=\"#wrangling\">Data Wrangling</a></li>\n",
    "<li><a href=\"#eda\">Exploratory Data Analysis</a></li>\n",
    "<li><a href=\"#conclusions\">Conclusions</a></li>\n",
    "</ul>"
   ]
  },
  {
   "cell_type": "markdown",
   "metadata": {},
   "source": [
    "<a id='intro'></a>\n",
    "## Introduction\n",
    "\n",
    "This data set contains information\n",
    "about 10,000 movies collected from\n",
    "The Movie Database (TMDb),\n",
    "including user ratings and revenue.\n",
    ">● Certain columns, like ‘cast’\n",
    "and ‘genres’, contain multiple\n",
    "values separated by pipe (|)\n",
    "characters.\n",
    "\n",
    ">● There are some odd characters\n",
    "in the ‘cast’ column. Don’t worry\n",
    "about cleaning them. You can\n",
    "leave them as is.\n",
    "\n",
    ">● The final two columns ending\n",
    "with “_adj” show the budget and\n",
    "revenue of the associated movie\n",
    "in terms of 2010 dollars,\n",
    "accounting for inflation over\n",
    "time"
   ]
  },
  {
   "cell_type": "code",
   "execution_count": 1,
   "metadata": {},
   "outputs": [],
   "source": [
    "# Use this cell to set up import statements for all of the packages that you\n",
    "import pandas as pd\n",
    "import seaborn as sns\n",
    "import matplotlib.pyplot as plt\n",
    "import numpy as np\n",
    "%matplotlib inline\n",
    "from pandas.plotting import scatter_matrix\n",
    "\n",
    "\n",
    "# Remember to include a 'magic word' so that your visualizations are plotted\n",
    "#   inline with the notebook. See this page for more:\n",
    "#   http://ipython.readthedocs.io/en/stable/interactive/magics.html\n"
   ]
  },
  {
   "cell_type": "markdown",
   "metadata": {},
   "source": [
    "<a id='wrangling'></a>\n",
    "## Data Wrangling\n",
    "\n",
    "### General Properties"
   ]
  },
  {
   "cell_type": "code",
   "execution_count": 2,
   "metadata": {},
   "outputs": [
    {
     "data": {
      "text/html": [
       "<div>\n",
       "<style scoped>\n",
       "    .dataframe tbody tr th:only-of-type {\n",
       "        vertical-align: middle;\n",
       "    }\n",
       "\n",
       "    .dataframe tbody tr th {\n",
       "        vertical-align: top;\n",
       "    }\n",
       "\n",
       "    .dataframe thead th {\n",
       "        text-align: right;\n",
       "    }\n",
       "</style>\n",
       "<table border=\"1\" class=\"dataframe\">\n",
       "  <thead>\n",
       "    <tr style=\"text-align: right;\">\n",
       "      <th></th>\n",
       "      <th>id</th>\n",
       "      <th>imdb_id</th>\n",
       "      <th>popularity</th>\n",
       "      <th>budget</th>\n",
       "      <th>revenue</th>\n",
       "      <th>original_title</th>\n",
       "      <th>cast</th>\n",
       "      <th>homepage</th>\n",
       "      <th>director</th>\n",
       "      <th>tagline</th>\n",
       "      <th>...</th>\n",
       "      <th>overview</th>\n",
       "      <th>runtime</th>\n",
       "      <th>genres</th>\n",
       "      <th>production_companies</th>\n",
       "      <th>release_date</th>\n",
       "      <th>vote_count</th>\n",
       "      <th>vote_average</th>\n",
       "      <th>release_year</th>\n",
       "      <th>budget_adj</th>\n",
       "      <th>revenue_adj</th>\n",
       "    </tr>\n",
       "  </thead>\n",
       "  <tbody>\n",
       "    <tr>\n",
       "      <th>0</th>\n",
       "      <td>135397</td>\n",
       "      <td>tt0369610</td>\n",
       "      <td>32.985763</td>\n",
       "      <td>150000000</td>\n",
       "      <td>1513528810</td>\n",
       "      <td>Jurassic World</td>\n",
       "      <td>Chris Pratt|Bryce Dallas Howard|Irrfan Khan|Vi...</td>\n",
       "      <td>http://www.jurassicworld.com/</td>\n",
       "      <td>Colin Trevorrow</td>\n",
       "      <td>The park is open.</td>\n",
       "      <td>...</td>\n",
       "      <td>Twenty-two years after the events of Jurassic ...</td>\n",
       "      <td>124</td>\n",
       "      <td>Action|Adventure|Science Fiction|Thriller</td>\n",
       "      <td>Universal Studios|Amblin Entertainment|Legenda...</td>\n",
       "      <td>6/9/15</td>\n",
       "      <td>5562</td>\n",
       "      <td>6.5</td>\n",
       "      <td>2015</td>\n",
       "      <td>1.379999e+08</td>\n",
       "      <td>1.392446e+09</td>\n",
       "    </tr>\n",
       "    <tr>\n",
       "      <th>1</th>\n",
       "      <td>76341</td>\n",
       "      <td>tt1392190</td>\n",
       "      <td>28.419936</td>\n",
       "      <td>150000000</td>\n",
       "      <td>378436354</td>\n",
       "      <td>Mad Max: Fury Road</td>\n",
       "      <td>Tom Hardy|Charlize Theron|Hugh Keays-Byrne|Nic...</td>\n",
       "      <td>http://www.madmaxmovie.com/</td>\n",
       "      <td>George Miller</td>\n",
       "      <td>What a Lovely Day.</td>\n",
       "      <td>...</td>\n",
       "      <td>An apocalyptic story set in the furthest reach...</td>\n",
       "      <td>120</td>\n",
       "      <td>Action|Adventure|Science Fiction|Thriller</td>\n",
       "      <td>Village Roadshow Pictures|Kennedy Miller Produ...</td>\n",
       "      <td>5/13/15</td>\n",
       "      <td>6185</td>\n",
       "      <td>7.1</td>\n",
       "      <td>2015</td>\n",
       "      <td>1.379999e+08</td>\n",
       "      <td>3.481613e+08</td>\n",
       "    </tr>\n",
       "    <tr>\n",
       "      <th>2</th>\n",
       "      <td>262500</td>\n",
       "      <td>tt2908446</td>\n",
       "      <td>13.112507</td>\n",
       "      <td>110000000</td>\n",
       "      <td>295238201</td>\n",
       "      <td>Insurgent</td>\n",
       "      <td>Shailene Woodley|Theo James|Kate Winslet|Ansel...</td>\n",
       "      <td>http://www.thedivergentseries.movie/#insurgent</td>\n",
       "      <td>Robert Schwentke</td>\n",
       "      <td>One Choice Can Destroy You</td>\n",
       "      <td>...</td>\n",
       "      <td>Beatrice Prior must confront her inner demons ...</td>\n",
       "      <td>119</td>\n",
       "      <td>Adventure|Science Fiction|Thriller</td>\n",
       "      <td>Summit Entertainment|Mandeville Films|Red Wago...</td>\n",
       "      <td>3/18/15</td>\n",
       "      <td>2480</td>\n",
       "      <td>6.3</td>\n",
       "      <td>2015</td>\n",
       "      <td>1.012000e+08</td>\n",
       "      <td>2.716190e+08</td>\n",
       "    </tr>\n",
       "    <tr>\n",
       "      <th>3</th>\n",
       "      <td>140607</td>\n",
       "      <td>tt2488496</td>\n",
       "      <td>11.173104</td>\n",
       "      <td>200000000</td>\n",
       "      <td>2068178225</td>\n",
       "      <td>Star Wars: The Force Awakens</td>\n",
       "      <td>Harrison Ford|Mark Hamill|Carrie Fisher|Adam D...</td>\n",
       "      <td>http://www.starwars.com/films/star-wars-episod...</td>\n",
       "      <td>J.J. Abrams</td>\n",
       "      <td>Every generation has a story.</td>\n",
       "      <td>...</td>\n",
       "      <td>Thirty years after defeating the Galactic Empi...</td>\n",
       "      <td>136</td>\n",
       "      <td>Action|Adventure|Science Fiction|Fantasy</td>\n",
       "      <td>Lucasfilm|Truenorth Productions|Bad Robot</td>\n",
       "      <td>12/15/15</td>\n",
       "      <td>5292</td>\n",
       "      <td>7.5</td>\n",
       "      <td>2015</td>\n",
       "      <td>1.839999e+08</td>\n",
       "      <td>1.902723e+09</td>\n",
       "    </tr>\n",
       "    <tr>\n",
       "      <th>4</th>\n",
       "      <td>168259</td>\n",
       "      <td>tt2820852</td>\n",
       "      <td>9.335014</td>\n",
       "      <td>190000000</td>\n",
       "      <td>1506249360</td>\n",
       "      <td>Furious 7</td>\n",
       "      <td>Vin Diesel|Paul Walker|Jason Statham|Michelle ...</td>\n",
       "      <td>http://www.furious7.com/</td>\n",
       "      <td>James Wan</td>\n",
       "      <td>Vengeance Hits Home</td>\n",
       "      <td>...</td>\n",
       "      <td>Deckard Shaw seeks revenge against Dominic Tor...</td>\n",
       "      <td>137</td>\n",
       "      <td>Action|Crime|Thriller</td>\n",
       "      <td>Universal Pictures|Original Film|Media Rights ...</td>\n",
       "      <td>4/1/15</td>\n",
       "      <td>2947</td>\n",
       "      <td>7.3</td>\n",
       "      <td>2015</td>\n",
       "      <td>1.747999e+08</td>\n",
       "      <td>1.385749e+09</td>\n",
       "    </tr>\n",
       "  </tbody>\n",
       "</table>\n",
       "<p>5 rows × 21 columns</p>\n",
       "</div>"
      ],
      "text/plain": [
       "       id    imdb_id  popularity     budget     revenue  \\\n",
       "0  135397  tt0369610   32.985763  150000000  1513528810   \n",
       "1   76341  tt1392190   28.419936  150000000   378436354   \n",
       "2  262500  tt2908446   13.112507  110000000   295238201   \n",
       "3  140607  tt2488496   11.173104  200000000  2068178225   \n",
       "4  168259  tt2820852    9.335014  190000000  1506249360   \n",
       "\n",
       "                 original_title  \\\n",
       "0                Jurassic World   \n",
       "1            Mad Max: Fury Road   \n",
       "2                     Insurgent   \n",
       "3  Star Wars: The Force Awakens   \n",
       "4                     Furious 7   \n",
       "\n",
       "                                                cast  \\\n",
       "0  Chris Pratt|Bryce Dallas Howard|Irrfan Khan|Vi...   \n",
       "1  Tom Hardy|Charlize Theron|Hugh Keays-Byrne|Nic...   \n",
       "2  Shailene Woodley|Theo James|Kate Winslet|Ansel...   \n",
       "3  Harrison Ford|Mark Hamill|Carrie Fisher|Adam D...   \n",
       "4  Vin Diesel|Paul Walker|Jason Statham|Michelle ...   \n",
       "\n",
       "                                            homepage          director  \\\n",
       "0                      http://www.jurassicworld.com/   Colin Trevorrow   \n",
       "1                        http://www.madmaxmovie.com/     George Miller   \n",
       "2     http://www.thedivergentseries.movie/#insurgent  Robert Schwentke   \n",
       "3  http://www.starwars.com/films/star-wars-episod...       J.J. Abrams   \n",
       "4                           http://www.furious7.com/         James Wan   \n",
       "\n",
       "                         tagline  ...  \\\n",
       "0              The park is open.  ...   \n",
       "1             What a Lovely Day.  ...   \n",
       "2     One Choice Can Destroy You  ...   \n",
       "3  Every generation has a story.  ...   \n",
       "4            Vengeance Hits Home  ...   \n",
       "\n",
       "                                            overview runtime  \\\n",
       "0  Twenty-two years after the events of Jurassic ...     124   \n",
       "1  An apocalyptic story set in the furthest reach...     120   \n",
       "2  Beatrice Prior must confront her inner demons ...     119   \n",
       "3  Thirty years after defeating the Galactic Empi...     136   \n",
       "4  Deckard Shaw seeks revenge against Dominic Tor...     137   \n",
       "\n",
       "                                      genres  \\\n",
       "0  Action|Adventure|Science Fiction|Thriller   \n",
       "1  Action|Adventure|Science Fiction|Thriller   \n",
       "2         Adventure|Science Fiction|Thriller   \n",
       "3   Action|Adventure|Science Fiction|Fantasy   \n",
       "4                      Action|Crime|Thriller   \n",
       "\n",
       "                                production_companies release_date vote_count  \\\n",
       "0  Universal Studios|Amblin Entertainment|Legenda...       6/9/15       5562   \n",
       "1  Village Roadshow Pictures|Kennedy Miller Produ...      5/13/15       6185   \n",
       "2  Summit Entertainment|Mandeville Films|Red Wago...      3/18/15       2480   \n",
       "3          Lucasfilm|Truenorth Productions|Bad Robot     12/15/15       5292   \n",
       "4  Universal Pictures|Original Film|Media Rights ...       4/1/15       2947   \n",
       "\n",
       "   vote_average  release_year    budget_adj   revenue_adj  \n",
       "0           6.5          2015  1.379999e+08  1.392446e+09  \n",
       "1           7.1          2015  1.379999e+08  3.481613e+08  \n",
       "2           6.3          2015  1.012000e+08  2.716190e+08  \n",
       "3           7.5          2015  1.839999e+08  1.902723e+09  \n",
       "4           7.3          2015  1.747999e+08  1.385749e+09  \n",
       "\n",
       "[5 rows x 21 columns]"
      ]
     },
     "execution_count": 2,
     "metadata": {},
     "output_type": "execute_result"
    }
   ],
   "source": [
    "# load dataset\n",
    "df = pd.read_csv('tmdb-movies.csv')\n",
    "df.head()\n",
    "#df.tail()"
   ]
  },
  {
   "cell_type": "code",
   "execution_count": 3,
   "metadata": {},
   "outputs": [
    {
     "data": {
      "text/plain": [
       "(10866, 21)"
      ]
     },
     "execution_count": 3,
     "metadata": {},
     "output_type": "execute_result"
    }
   ],
   "source": [
    "# check datatypes\n",
    "#df.info();\n",
    "df.shape"
   ]
  },
  {
   "cell_type": "code",
   "execution_count": 4,
   "metadata": {},
   "outputs": [],
   "source": [
    "# datatype checklist\n",
    "#id                      10866 non-null int64 ok\n",
    "#imdb_id                 10856 non-null object ok\n",
    "#popularity              10866 non-null float64 ok\n",
    "#budget                  10866 non-null int64 not ok --> convert to float\n",
    "#revenue                 10866 non-null int64 not ok --> convert to float\n",
    "#original_title          10866 non-null object ok\n",
    "#cast                    10790 non-null object ok --> maybe seperate\n",
    "#homepage                2936 non-null object ok\n",
    "#director                10822 non-null object ok\n",
    "#tagline                 8042 non-null object ok\n",
    "#keywords                9373 non-null object ok --> maybe seperate\n",
    "#overview                10862 non-null object ok --> maybe too long for analysis\n",
    "#runtime                 10866 non-null int64 ok --> prob. in minutes\n",
    "#genres                  10843 non-null object not ok --> seperate\n",
    "#production_companies    9836 non-null object not ok --> seperate\n",
    "#release_date            10866 non-null object not ok --> convert to datetime \n",
    "#vote_count              10866 non-null int64 ok\n",
    "#vote_average            10866 non-null float64 ok\n",
    "#release_year            10866 non-null int64 ok\n",
    "#budget_adj              10866 non-null float64 ok\n",
    "#revenue_adj             10866 non-null float64 ok"
   ]
  },
  {
   "cell_type": "code",
   "execution_count": 5,
   "metadata": {},
   "outputs": [
    {
     "data": {
      "text/plain": [
       "1"
      ]
     },
     "execution_count": 5,
     "metadata": {},
     "output_type": "execute_result"
    }
   ],
   "source": [
    "# check for duplicates\n",
    "df.duplicated().sum()"
   ]
  },
  {
   "cell_type": "code",
   "execution_count": 6,
   "metadata": {},
   "outputs": [
    {
     "data": {
      "text/plain": [
       "id                         0\n",
       "imdb_id                   10\n",
       "popularity                 0\n",
       "budget                     0\n",
       "revenue                    0\n",
       "original_title             0\n",
       "cast                      76\n",
       "homepage                7930\n",
       "director                  44\n",
       "tagline                 2824\n",
       "keywords                1493\n",
       "overview                   4\n",
       "runtime                    0\n",
       "genres                    23\n",
       "production_companies    1030\n",
       "release_date               0\n",
       "vote_count                 0\n",
       "vote_average               0\n",
       "release_year               0\n",
       "budget_adj                 0\n",
       "revenue_adj                0\n",
       "dtype: int64"
      ]
     },
     "execution_count": 6,
     "metadata": {},
     "output_type": "execute_result"
    }
   ],
   "source": [
    "# check for nulls\n",
    "df.isnull().sum()"
   ]
  },
  {
   "cell_type": "markdown",
   "metadata": {},
   "source": [
    "**Columns not needed for analysis**: \n",
    ">  - *homepage*, no additional informatin\n",
    ">  - *Keywords* since too fuzzy\n",
    ">  - *overview* since too fuzzy\n",
    ">  - *imdb_id*  since no API to imdb is intended\n",
    "\n",
    "**Columns where null rows does NOT need to be cleaned**: \n",
    ">  - *Tagline* is acceptable since not every movie has a Tagline\n",
    "\n",
    "**Columns where null rows need to be cleaned**: \n",
    ">  - *cast*, *director* is acceptable due to low samplesize\n",
    ">  - *genres* is relevant for further analysis\n",
    ">  - *director* is relevant for further analysis\n",
    "\n",
    "Conclusion: Work with two different dataframes for now. **df** and **df_full** and drop not needed columns."
   ]
  },
  {
   "cell_type": "markdown",
   "metadata": {
    "collapsed": true
   },
   "source": [
    "### Data Cleaning\n",
    "> After discussing the structure of the data and any problems that need to be\n",
    ">   cleaned, perform those cleaning steps in the second part of this section.\n"
   ]
  },
  {
   "cell_type": "code",
   "execution_count": 7,
   "metadata": {},
   "outputs": [],
   "source": [
    "# drop duplicates\n",
    "df.drop_duplicates(inplace=True)"
   ]
  },
  {
   "cell_type": "code",
   "execution_count": 8,
   "metadata": {},
   "outputs": [],
   "source": [
    "# drop not needed columns\n",
    "df.drop(['homepage', 'keywords', 'overview', 'imdb_id'], axis=1, inplace=True)"
   ]
  },
  {
   "cell_type": "code",
   "execution_count": 9,
   "metadata": {},
   "outputs": [],
   "source": [
    "## convert to float\n",
    "df['revenue'] = df['revenue'].astype(float)\n",
    "df['budget']  = df['budget'].astype(float)"
   ]
  },
  {
   "cell_type": "code",
   "execution_count": 10,
   "metadata": {},
   "outputs": [
    {
     "data": {
      "text/plain": [
       "RangeIndex(start=0, stop=10731, step=1)"
      ]
     },
     "execution_count": 10,
     "metadata": {},
     "output_type": "execute_result"
    }
   ],
   "source": [
    "# drop rows with null entries\n",
    "df_full = df.copy()\n",
    "df.dropna(subset=['cast', 'genres', 'director'], inplace=True)\n",
    "df.isnull().sum()\n",
    "\n",
    "# reset index to enable usage of iloc\n",
    "df.reset_index(inplace=True)\n",
    "df.index"
   ]
  },
  {
   "cell_type": "markdown",
   "metadata": {},
   "source": [
    "**Prepare cast column for analysis**: \n",
    "> create different columns for the first 5 named actors in string\n",
    "\n"
   ]
  },
  {
   "cell_type": "code",
   "execution_count": 11,
   "metadata": {},
   "outputs": [
    {
     "data": {
      "text/plain": [
       "True"
      ]
     },
     "execution_count": 11,
     "metadata": {},
     "output_type": "execute_result"
    }
   ],
   "source": [
    "# check if each entry contains seperator\n",
    "df_cast = df[df['cast'].str.contains('|')]\n",
    "df.equals(df_cast)"
   ]
  },
  {
   "cell_type": "code",
   "execution_count": 12,
   "metadata": {},
   "outputs": [],
   "source": [
    "# columns to split by \"|\"\n",
    "split_columns = ['cast0', 'cast1', 'cast2', 'cast3', 'cast4', 'cast5']\n",
    "\n",
    "\n",
    "# append empty cast columns\n",
    "df['amnt_cast'] = \"\"\n",
    "for c in split_columns:\n",
    "    df[c] = \"\"\n",
    "    \n",
    "# get amount of actors\n",
    "df['amnt_cast'] = df['cast'].apply(lambda x: len(x.split(\"|\")))\n",
    "\n",
    "# create subset for each amnt of actors\n",
    "df1 = df.query('amnt_cast == 1')\n",
    "df2 = df.query('amnt_cast == 2')\n",
    "df3 = df.query('amnt_cast == 3')\n",
    "df4 = df.query('amnt_cast == 4')\n",
    "df5 = df.query('amnt_cast == 5')\n",
    "\n",
    "# write actors from string to columns\n",
    "# 1st actor\n",
    "tmp = df1['cast'].apply(lambda x: x.split(\"|\")[0])\n",
    "df.iloc[tmp.index, df.columns.get_loc('cast0')] = tmp\n",
    "# 2nd actor\n",
    "for idx,val in enumerate(split_columns[0:2]):\n",
    "    tmp = df2['cast'].apply(lambda x: x.split(\"|\")[idx])\n",
    "    df.iloc[tmp.index, df.columns.get_loc(val)] = tmp\n",
    "# 3rd actor\n",
    "for idx,val in enumerate(split_columns[0:3]):\n",
    "    tmp = df3['cast'].apply(lambda x: x.split(\"|\")[idx])\n",
    "    df.iloc[tmp.index, df.columns.get_loc(val)] = tmp\n",
    "# 4th actor\n",
    "for idx,val in enumerate(split_columns[0:4]):\n",
    "    tmp = df4['cast'].apply(lambda x: x.split(\"|\")[idx])\n",
    "    df.iloc[tmp.index, df.columns.get_loc(val)] = tmp\n",
    "# 5th actor\n",
    "for idx,val in enumerate(split_columns[0:5]):\n",
    "    tmp = df5['cast'].apply(lambda x: x.split(\"|\")[idx])\n",
    "    df.iloc[tmp.index, df.columns.get_loc(val)] = tmp\n",
    "df.drop(columns='cast5', inplace=True)"
   ]
  },
  {
   "cell_type": "code",
   "execution_count": 13,
   "metadata": {},
   "outputs": [],
   "source": [
    "# double check\n",
    "df.query('amnt_cast==1')\n",
    "df.query('amnt_cast==2')\n",
    "df.query('amnt_cast==3')\n",
    "df.query('amnt_cast==4')\n",
    "df.query('amnt_cast==5')\n",
    "\n",
    "# drop original cast column\n",
    "df.drop(columns='cast', inplace=True)"
   ]
  },
  {
   "cell_type": "markdown",
   "metadata": {},
   "source": [
    "**Prepare genres column for analysis**: \n",
    "> create different columns for the first 5 named genres in string\n"
   ]
  },
  {
   "cell_type": "code",
   "execution_count": 14,
   "metadata": {},
   "outputs": [],
   "source": [
    "# columns to split by \"|\"\n",
    "split_columns = ['genre0', 'genre1', 'genre2', 'genre3', 'genre4', 'genre5']\n",
    "\n",
    "\n",
    "# append empty cast columns\n",
    "df['amnt_genre'] = \"\"\n",
    "for c in split_columns:\n",
    "    df[c] = \"\"\n",
    "    \n",
    "# get amount of actors\n",
    "df['amnt_genre'] = df['genres'].apply(lambda x: len(x.split(\"|\")))\n",
    "max(df['amnt_genre'])\n",
    "\n",
    "# create subset for each amnt of actors\n",
    "df1 = df.query('amnt_genre == 1')\n",
    "df2 = df.query('amnt_genre == 2')\n",
    "df3 = df.query('amnt_genre == 3')\n",
    "df4 = df.query('amnt_genre == 4')\n",
    "df5 = df.query('amnt_genre == 5')\n",
    "\n",
    "# write actors from string to columns\n",
    "# 1st actor\n",
    "tmp = df1['genres'].apply(lambda x: x.split(\"|\")[0])\n",
    "df.iloc[tmp.index, df.columns.get_loc('cast0')] = tmp\n",
    "# 2nd actor\n",
    "for idx,val in enumerate(split_columns[0:2]):\n",
    "    tmp = df2['genres'].apply(lambda x: x.split(\"|\")[idx])\n",
    "    df.iloc[tmp.index, df.columns.get_loc(val)] = tmp\n",
    "# 3rd actor\n",
    "for idx,val in enumerate(split_columns[0:3]):\n",
    "    tmp = df3['genres'].apply(lambda x: x.split(\"|\")[idx])\n",
    "    df.iloc[tmp.index, df.columns.get_loc(val)] = tmp\n",
    "# 4th actor\n",
    "for idx,val in enumerate(split_columns[0:4]):\n",
    "    tmp = df4['genres'].apply(lambda x: x.split(\"|\")[idx])\n",
    "    df.iloc[tmp.index, df.columns.get_loc(val)] = tmp\n",
    "# 5th actor\n",
    "for idx,val in enumerate(split_columns[0:5]):\n",
    "    tmp = df5['genres'].apply(lambda x: x.split(\"|\")[idx])\n",
    "    df.iloc[tmp.index, df.columns.get_loc(val)] = tmp\n",
    "df.drop(columns='genre5', inplace=True)"
   ]
  },
  {
   "cell_type": "code",
   "execution_count": 15,
   "metadata": {},
   "outputs": [],
   "source": [
    "# double check\n",
    "df.query('amnt_genre==1')\n",
    "df.query('amnt_genre==2')\n",
    "df.query('amnt_genre==3')\n",
    "df.query('amnt_genre==4')\n",
    "df.query('amnt_genre==5')\n",
    "\n",
    "# drop original cast column\n",
    "df.drop(columns='genres', inplace=True)"
   ]
  },
  {
   "cell_type": "code",
   "execution_count": 16,
   "metadata": {},
   "outputs": [],
   "source": [
    "# convert release date to datetime\n",
    "df[\"release_date\"]= pd.to_datetime(df[\"release_date\"]) "
   ]
  },
  {
   "cell_type": "markdown",
   "metadata": {},
   "source": [
    "<a id='eda'></a>\n",
    "## Exploratory Data Analysis\n",
    "\n",
    "\n",
    "### Research Question 1\n",
    "#### Which genres are most popular from year to year? Polour with regard to the TMDb Score and the resulting \"chart\" list."
   ]
  },
  {
   "cell_type": "code",
   "execution_count": 17,
   "metadata": {},
   "outputs": [
    {
     "data": {
      "text/html": [
       "<div>\n",
       "<style scoped>\n",
       "    .dataframe tbody tr th:only-of-type {\n",
       "        vertical-align: middle;\n",
       "    }\n",
       "\n",
       "    .dataframe tbody tr th {\n",
       "        vertical-align: top;\n",
       "    }\n",
       "\n",
       "    .dataframe thead th {\n",
       "        text-align: right;\n",
       "    }\n",
       "</style>\n",
       "<table border=\"1\" class=\"dataframe\">\n",
       "  <thead>\n",
       "    <tr style=\"text-align: right;\">\n",
       "      <th></th>\n",
       "      <th>genre0</th>\n",
       "      <th>genre1</th>\n",
       "      <th>genre2</th>\n",
       "      <th>genre3</th>\n",
       "      <th>genre4</th>\n",
       "    </tr>\n",
       "  </thead>\n",
       "  <tbody>\n",
       "    <tr>\n",
       "      <th>count</th>\n",
       "      <td>10731</td>\n",
       "      <td>10731</td>\n",
       "      <td>10731</td>\n",
       "      <td>10731</td>\n",
       "      <td>10731</td>\n",
       "    </tr>\n",
       "    <tr>\n",
       "      <th>unique</th>\n",
       "      <td>21</td>\n",
       "      <td>21</td>\n",
       "      <td>21</td>\n",
       "      <td>21</td>\n",
       "      <td>20</td>\n",
       "    </tr>\n",
       "    <tr>\n",
       "      <th>top</th>\n",
       "      <td></td>\n",
       "      <td></td>\n",
       "      <td></td>\n",
       "      <td></td>\n",
       "      <td></td>\n",
       "    </tr>\n",
       "    <tr>\n",
       "      <th>freq</th>\n",
       "      <td>2271</td>\n",
       "      <td>2271</td>\n",
       "      <td>5680</td>\n",
       "      <td>8759</td>\n",
       "      <td>10192</td>\n",
       "    </tr>\n",
       "  </tbody>\n",
       "</table>\n",
       "</div>"
      ],
      "text/plain": [
       "       genre0 genre1 genre2 genre3 genre4\n",
       "count   10731  10731  10731  10731  10731\n",
       "unique     21     21     21     21     20\n",
       "top                                      \n",
       "freq     2271   2271   5680   8759  10192"
      ]
     },
     "execution_count": 17,
     "metadata": {},
     "output_type": "execute_result"
    }
   ],
   "source": [
    "# find unique genres\n",
    "column_list = ['genre0', 'genre1', 'genre2', 'genre3', 'genre4']\n",
    "df[column_list].describe()"
   ]
  },
  {
   "cell_type": "code",
   "execution_count": 41,
   "metadata": {},
   "outputs": [],
   "source": [
    "# get overview over all subgernes\n",
    "genres = df.groupby(column_list).popularity.mean()\n",
    "\n",
    "# append all genres and its corresponding pobularity\n",
    "df_genres = pd.DataFrame([], columns = ['genres', 'popularity', 'release_year'])\n",
    "\n",
    "# append all subgenres to one genre list\n",
    "for val in column_list:\n",
    "    tmp = df[[val, 'popularity', 'release_year']]\n",
    "    tmp.rename(columns={val: \"genres\"}, inplace=True)\n",
    "    df_genres = pd.concat([df_genres,tmp])\n",
    "\n",
    "# group subgenres\n",
    "genres = df_genres.groupby('genres').popularity.mean()\n",
    "genres\n",
    "\n",
    "# store top genres for later analysis\n",
    "nmax = 5\n",
    "top_genres = genres.sort_values(ascending=False)\n",
    "top_genres = top_genres.index[0:nmax].tolist()\n"
   ]
  },
  {
   "cell_type": "code",
   "execution_count": 42,
   "metadata": {},
   "outputs": [],
   "source": [
    "# get most and least favourite genre\n",
    "most_pop  = genres.idxmax()\n",
    "idx0 = np.where(genres.index == most_pop)[0]\n",
    "idx0 = idx0[0]\n",
    "\n",
    "least_pop = genres.idxmin()\n",
    "idx1 = np.where(genres.index == least_pop)[0]\n",
    "idx1 = idx1[0]"
   ]
  },
  {
   "cell_type": "code",
   "execution_count": 43,
   "metadata": {},
   "outputs": [
    {
     "data": {
      "text/html": [
       "<div>\n",
       "<style scoped>\n",
       "    .dataframe tbody tr th:only-of-type {\n",
       "        vertical-align: middle;\n",
       "    }\n",
       "\n",
       "    .dataframe tbody tr th {\n",
       "        vertical-align: top;\n",
       "    }\n",
       "\n",
       "    .dataframe thead th {\n",
       "        text-align: right;\n",
       "    }\n",
       "</style>\n",
       "<table border=\"1\" class=\"dataframe\">\n",
       "  <thead>\n",
       "    <tr style=\"text-align: right;\">\n",
       "      <th></th>\n",
       "      <th>genres</th>\n",
       "      <th>popularity</th>\n",
       "      <th>release_year</th>\n",
       "    </tr>\n",
       "  </thead>\n",
       "  <tbody>\n",
       "    <tr>\n",
       "      <th>0</th>\n",
       "      <td>Chris Pratt</td>\n",
       "      <td>32.985763</td>\n",
       "      <td>2015</td>\n",
       "    </tr>\n",
       "    <tr>\n",
       "      <th>1</th>\n",
       "      <td>Tom Hardy</td>\n",
       "      <td>28.419936</td>\n",
       "      <td>2015</td>\n",
       "    </tr>\n",
       "    <tr>\n",
       "      <th>2</th>\n",
       "      <td>Shailene Woodley</td>\n",
       "      <td>13.112507</td>\n",
       "      <td>2015</td>\n",
       "    </tr>\n",
       "    <tr>\n",
       "      <th>3</th>\n",
       "      <td>Harrison Ford</td>\n",
       "      <td>11.173104</td>\n",
       "      <td>2015</td>\n",
       "    </tr>\n",
       "    <tr>\n",
       "      <th>4</th>\n",
       "      <td>Vin Diesel</td>\n",
       "      <td>9.335014</td>\n",
       "      <td>2015</td>\n",
       "    </tr>\n",
       "    <tr>\n",
       "      <th>...</th>\n",
       "      <td>...</td>\n",
       "      <td>...</td>\n",
       "      <td>...</td>\n",
       "    </tr>\n",
       "    <tr>\n",
       "      <th>10726</th>\n",
       "      <td>Chip Fitzwater</td>\n",
       "      <td>0.080598</td>\n",
       "      <td>1966</td>\n",
       "    </tr>\n",
       "    <tr>\n",
       "      <th>10727</th>\n",
       "      <td>Brian Bedford</td>\n",
       "      <td>0.065543</td>\n",
       "      <td>1966</td>\n",
       "    </tr>\n",
       "    <tr>\n",
       "      <th>10728</th>\n",
       "      <td>Lyubov Dobrzhanskaya</td>\n",
       "      <td>0.065141</td>\n",
       "      <td>1966</td>\n",
       "    </tr>\n",
       "    <tr>\n",
       "      <th>10729</th>\n",
       "      <td>Tadao Nakamaru</td>\n",
       "      <td>0.064317</td>\n",
       "      <td>1966</td>\n",
       "    </tr>\n",
       "    <tr>\n",
       "      <th>10730</th>\n",
       "      <td>Stephanie Nielson</td>\n",
       "      <td>0.035919</td>\n",
       "      <td>1966</td>\n",
       "    </tr>\n",
       "  </tbody>\n",
       "</table>\n",
       "<p>53655 rows × 3 columns</p>\n",
       "</div>"
      ],
      "text/plain": [
       "                     genres  popularity release_year\n",
       "0               Chris Pratt   32.985763         2015\n",
       "1                 Tom Hardy   28.419936         2015\n",
       "2          Shailene Woodley   13.112507         2015\n",
       "3             Harrison Ford   11.173104         2015\n",
       "4                Vin Diesel    9.335014         2015\n",
       "...                     ...         ...          ...\n",
       "10726        Chip Fitzwater    0.080598         1966\n",
       "10727         Brian Bedford    0.065543         1966\n",
       "10728  Lyubov Dobrzhanskaya    0.065141         1966\n",
       "10729        Tadao Nakamaru    0.064317         1966\n",
       "10730     Stephanie Nielson    0.035919         1966\n",
       "\n",
       "[53655 rows x 3 columns]"
      ]
     },
     "execution_count": 43,
     "metadata": {},
     "output_type": "execute_result"
    }
   ],
   "source": [
    "df_genres"
   ]
  },
  {
   "cell_type": "code",
   "execution_count": null,
   "metadata": {},
   "outputs": [
    {
     "data": {
      "text/plain": [
       "<matplotlib.legend.Legend at 0x12868b9e8>"
      ]
     },
     "execution_count": 44,
     "metadata": {},
     "output_type": "execute_result"
    }
   ],
   "source": [
    "# plot data \n",
    "fig, ax = plt.subplots(figsize=(25, 45))\n",
    "ax.tick_params(axis='both', which='major', labelsize=25)\n",
    "\n",
    "barlist = plt.barh(genres.index, genres)\n",
    "plt.title('Pobularity across all genres', fontsize=30)\n",
    "plt.xlabel('Genre', fontsize=30)\n",
    "plt.ylabel('Pobularity according to TMDb', fontsize=30);\n",
    "\n",
    "# change color for most popular genre\n",
    "barlist[idx0].set_color('r')\n",
    "barlist[idx1].set_color('g')\n",
    "\n",
    "\n",
    "# legend\n",
    "colors = {'Most Popular':'red', 'Least Popular':'green'}         \n",
    "labels = list(colors.keys())\n",
    "handles = [plt.Rectangle((0,0),1,1, color=colors[label]) for label in labels]\n",
    "plt.legend(handles, labels, fontsize=30)"
   ]
  },
  {
   "cell_type": "code",
   "execution_count": null,
   "metadata": {},
   "outputs": [],
   "source": [
    "# get unique release_years\n",
    "unique_yrs = df_genres.release_year.unique()\n",
    "unique_yrs = sorted(unique_yrs)\n",
    "\n",
    "#genre_dict = {}\n",
    "#genre_mat = []\n",
    "# get unique genres\n",
    "unique_genres = df_genres.genres.unique()\n",
    "\n",
    "# pre-allocate dataframe\n",
    "df_yr = pd.DataFrame(np.zeros((len(unique_genres), len(unique_yrs))), columns=unique_yrs)\n",
    "df_yr.index = unique_genres\n",
    "df_yr\n",
    "\n",
    "# loop through unique years and determine ranking of most popular genres\n",
    "for idx, val in enumerate(unique_yrs):\n",
    "        # get genre popularity for each year\n",
    "        df_single_yr = df_genres.query('release_year == %s' % val)\n",
    "        genres = df_single_yr.groupby('genres').popularity.mean()\n",
    "        \n",
    "        # assign top 10\n",
    "        n_max = 16\n",
    "        genres.sort_values(ascending=False,inplace=True)\n",
    "        for i in range(n_max):\n",
    "            df_yr.loc[genres.index[i], val] = n_max - i\n",
    "        #genre_dict.update({val:genres})\n",
    "        #genre_mat = np.append(genre_mat, genres,1)\n",
    "df_yr"
   ]
  },
  {
   "cell_type": "code",
   "execution_count": null,
   "metadata": {},
   "outputs": [],
   "source": [
    "# drop 0 rows\n",
    "df_yr = df_yr.replace(0, np.nan)\n",
    "df_yr = df_yr.dropna(how='all', axis=0)"
   ]
  },
  {
   "cell_type": "code",
   "execution_count": null,
   "metadata": {},
   "outputs": [],
   "source": [
    "# transpose for plotting\n",
    "df_yr = df_yr.transpose()"
   ]
  },
  {
   "cell_type": "markdown",
   "metadata": {},
   "source": [
    "> In order to provide a certain clarity anlysis focuses on the **Top 5 genres**.\n",
    "> Which are the following:\n",
    "> 1. Adventure\n",
    "> 2. Science Fiction\n",
    "> 3. Fantasy\n",
    "> 4. Action\n",
    "> 5. Animation"
   ]
  },
  {
   "cell_type": "code",
   "execution_count": null,
   "metadata": {},
   "outputs": [],
   "source": [
    "# generate list of top geners to be displayed\n",
    "df_plot = df_yr[top_genres]\n",
    "df_plot.plot.area(figsize=(15,10))\n",
    "#df_plot\n"
   ]
  },
  {
   "cell_type": "markdown",
   "metadata": {},
   "source": [
    "##### Make visualization more clear\n",
    "> Visualization struggles so running mean should be applied to the score\n",
    "> "
   ]
  },
  {
   "cell_type": "code",
   "execution_count": null,
   "metadata": {},
   "outputs": [],
   "source": [
    "df_plot = df_plot.replace(np.nan, 0)\n",
    "df_plot_mean = df_plot.rolling(window=10).mean()\n",
    "#df_plot_mean.plot.area(figsize=(15,10),stacked=False)\n",
    "#df_plot_mean.plot.line(figsize=(15,10))\n",
    "\n",
    "# plot data \n",
    "fig, ax = plt.subplots(figsize=(35, 20))\n",
    "marker_list = ['*-', '+-', 'o-', '.-', '^-']\n",
    "ax.tick_params(axis='both', which='major', labelsize=25)\n",
    "handles, labels = ax.get_legend_handles_labels()\n",
    "ax.legend(handles, top_genres)\n",
    "\n",
    "# loop top genres\n",
    "#linelist = np.zeros(np.shape(top_genres))\n",
    "linelist = []\n",
    "for idx, val in enumerate(top_genres):\n",
    "    tmp, = plt.plot(df_plot_mean[val].index, df_plot_mean[val], marker_list[idx], markersize=14)\n",
    "    linelist.append(tmp)\n",
    "    \n",
    "    \n",
    "# change ylabel since we want to display a Rank and not a score\n",
    "\n",
    "#plt.ylim([15, 0])\n",
    "plt.title('Pobularity across Top 5 overall genres over the years', fontsize=30)\n",
    "plt.xlabel('year', fontsize=30)\n",
    "plt.ylabel('Chart Position according to TMDb Popularity', fontsize=30);\n",
    "plt.legend(linelist, top_genres, fontsize=30)\n",
    "\n",
    "locs, labels = plt.yticks() \n",
    "labels[2]\n",
    "plt.yticks(np.linspace(0,15, num=6), np.round(np.linspace(16,1, num=6),decimals=0));\n",
    "\n",
    "# change color for most popular genre\n",
    "#barlist[idx0].set_color('r')\n",
    "#barlist[idx1].set_color('g')\n",
    "\n",
    "\n",
    "# legend\n",
    "#colors = {'Most Popular':'red', 'Least Popular':'green'}         \n",
    "#labels = list(colors.keys())\n",
    "#handles = [plt.Rectangle((0,0),1,1, color=colors[label]) for label in labels]\n",
    "#plt.legend(handles, labels, fontsize=30)"
   ]
  },
  {
   "cell_type": "markdown",
   "metadata": {},
   "source": [
    "#### Detailed Chart for Comparison\n",
    "> in order to be able to obtain specific non filtered ranking of the genres\n",
    "\n",
    "> In particular its good to observe that the upper ranks are almost always filled by the Top5 Genres, which means that we didnt miss any genre, which only was strong at a certain period of time."
   ]
  },
  {
   "cell_type": "code",
   "execution_count": null,
   "metadata": {},
   "outputs": [],
   "source": [
    "df_plot.plot.line(figsize=(30,10), style=\"o\", markersize=15)\n"
   ]
  },
  {
   "cell_type": "markdown",
   "metadata": {},
   "source": [
    "### Research Question 2\n",
    "#### What kinds of properties are associated with movies that have high revenues?"
   ]
  },
  {
   "cell_type": "code",
   "execution_count": null,
   "metadata": {},
   "outputs": [],
   "source": [
    "# get rough overview with regard to revenue column\n",
    "scatter_matrix(df, alpha=0.2, figsize=(20, 20), diagonal='kde');\n"
   ]
  },
  {
   "cell_type": "markdown",
   "metadata": {},
   "source": [
    "##### Overview to identify numerical attributes which have some kind of correlation with the revenue\n",
    "> Numerical attributes to be considered:\n",
    "> - budget (pretty clustered but existent)\n",
    "> - popularity (pretty clustered but existent)\n",
    "> - release_yr (much more revenue on the later years)\n",
    "> - runtime (strong but check normal distribution)\n",
    "\n",
    "> String attributes to be considered later on:\n",
    "> - actors"
   ]
  },
  {
   "cell_type": "code",
   "execution_count": null,
   "metadata": {},
   "outputs": [],
   "source": [
    "# deeper look at budget correlation\n",
    "df.plot(x=\"budget_adj\", y=\"revenue_adj\", kind=\"scatter\");"
   ]
  },
  {
   "cell_type": "code",
   "execution_count": null,
   "metadata": {},
   "outputs": [],
   "source": [
    "# look at the disribution of budget for all movies\n",
    "df.plot(y=\"budget_adj\", kind=\"hist\");"
   ]
  },
  {
   "cell_type": "code",
   "execution_count": null,
   "metadata": {},
   "outputs": [],
   "source": [
    "# deeper look at budget correlation\n",
    "df.plot(x=\"popularity\", y=\"revenue_adj\", kind=\"scatter\");"
   ]
  },
  {
   "cell_type": "code",
   "execution_count": null,
   "metadata": {},
   "outputs": [],
   "source": [
    "# look at the disribution of budget for all movies\n",
    "df.plot(y=\"revenue_adj\", kind=\"hist\");"
   ]
  },
  {
   "cell_type": "code",
   "execution_count": null,
   "metadata": {},
   "outputs": [],
   "source": [
    "# deeper look at release_year correlation\n",
    "df.plot(y=\"revenue_adj\", x=\"release_year\", kind=\"scatter\");"
   ]
  },
  {
   "cell_type": "code",
   "execution_count": null,
   "metadata": {},
   "outputs": [],
   "source": [
    "# look at the disribution of release_year for all movies\n",
    "df.plot(y=\"release_year\", kind=\"hist\");"
   ]
  },
  {
   "cell_type": "code",
   "execution_count": null,
   "metadata": {},
   "outputs": [],
   "source": [
    "# deeper look at runtime correlation\n",
    "df.plot(y=\"revenue_adj\", x=\"runtime\", kind=\"scatter\");"
   ]
  },
  {
   "cell_type": "code",
   "execution_count": null,
   "metadata": {},
   "outputs": [],
   "source": [
    "# look at the disribution of runtime for all movies\n",
    "df.plot(y=\"runtime\", kind=\"hist\");"
   ]
  },
  {
   "cell_type": "code",
   "execution_count": null,
   "metadata": {},
   "outputs": [],
   "source": [
    "top_features = df.query('budget > budget.mean()')\n",
    "top_features.describe()"
   ]
  },
  {
   "cell_type": "code",
   "execution_count": null,
   "metadata": {},
   "outputs": [],
   "source": [
    "df.describe()"
   ]
  },
  {
   "cell_type": "code",
   "execution_count": null,
   "metadata": {},
   "outputs": [],
   "source": [
    "# find actors with movies of high revenue\n",
    "column_list = ['cast0', 'cast1', 'cast2', 'cast3', 'cast4']\n",
    "actors = df.groupby(column_list).revenue.mean()\n",
    "\n",
    "# append all genres and its corresponding revenue\n",
    "df_actors = pd.DataFrame([], columns = ['actors', 'revenue_adj', 'popularity'])\n",
    "\n",
    "# append all actors to one actors list\n",
    "for val in column_list:\n",
    "    tmp = df[[val, 'revenue_adj', 'popularity']]\n",
    "    tmp.rename(columns={val: \"actors\"}, inplace=True)\n",
    "    df_actors = pd.concat([df_actors,tmp])\n",
    "\n",
    "# store top genres for later analysis\n",
    "actors = df_actors.groupby('actors').revenue_adj.mean()\n",
    "top_actors = actors.sort_values(ascending=False)\n",
    "top_actors"
   ]
  },
  {
   "cell_type": "markdown",
   "metadata": {},
   "source": [
    "<a id='conclusions'></a>\n",
    "## Conclusions Question 1\n",
    "#### Which genres are most popular from year to year? Polour with regard to the TMDb Score and the resulting \"chart\" list.\n",
    "\n",
    "> In general one can state the following:\n",
    "> - A lot of people love the **Adventure** Genre. This is the genre which received on average the most popularity.\n",
    "> - In Compaison the **Documentary** Genre seems to be the least liked genre over the years\n",
    "\n",
    "> When you look at the the trend over the last 50 years:\n",
    "> - it becomes remarkable that **Fantasy** Genre received a stunning groth in popularity.\n",
    "> - the **Animation** Genre struggled it in the mid 1980s, when it was strong before, but become very popular later on\n",
    "> - the **Adventure** Genre stayed remain over the years very popular and had only a slight dip in arround the year 2000\n",
    "> - The **Action** and the the **Sci-Fi** Genere could be considered as an honerable 2nd place. Both remained very famous over the years but struggle to become the overall audiance favourite. There is a strong (optical) correlation between these.\n",
    "    "
   ]
  },
  {
   "cell_type": "markdown",
   "metadata": {
    "collapsed": true
   },
   "source": [
    "<a id='conclusions'></a>\n",
    "## Conclusions Question 2\n",
    "#### Continue to explore the data to address your additional research\n",
    "\n",
    "> The most obvious attributes for a high revenue turned mostly out somewhat true\n",
    "> - A bigger **budget** correlates in general with more revenue for a movie\n",
    "> - A bigger **popularity** correlates in general with more revenue for a movie\n",
    "\n",
    ">However the correlation is not very strong and a a big budget or persumably popular topic for your movie, will not nesscarily lead to high revenues.\n",
    "\n",
    "> The less obvious parameter with some correlation with the revenue, can be explained by the distribution. Meaning vor example that much more moview were produced with a certain **runtime** and thus have a higher chance to land big revenues. Same applies to the **release year**. Just a lot more younger movies can be found in the DB.\n",
    "\n",
    "> In Addition the **actors** have been identified, who were able to score the most average revenue per movies they participated in.\n",
    "> 1. Daisy Ridley          1.902723e+09 USD\n",
    "> 2. Robert MacNaughton    1.791694e+09 USD\n",
    "> 3. Ben Wright            1.574815e+09 USD\n",
    "> 4. Betty Lou Gerson      1.574815e+09 USD\n",
    "> 5. Martha Wentworth      1.574815e+09 USD\n",
    "\n",
    "> It is no guarentee to receive a high revenue when you hire these actors, but a pretty good start - provided they are still alive ;) \n"
   ]
  },
  {
   "cell_type": "markdown",
   "metadata": {},
   "source": [
    "## Concerns / Disclaimer\n",
    "> - This analysis is limited to the TMDb. \n",
    "> - Popularity and even genres and somewhat subjektive criteria (it depends on the group of people who determines these attributes\n",
    "> - The transformation of the popularity into a chart system/ranking, can not consider differences of the popularity with high or narrow gaps. Its just an order and serves to overlook the data in a more understandable way.\n",
    "> - **Revenue** and **Budget** was used with its adjusted values (which takes inflation into consideration)\n",
    "> - Second anlysis technically favour old movies, since they had more time to generate revenue."
   ]
  }
 ],
 "metadata": {
  "kernelspec": {
   "display_name": "Python 3",
   "language": "python",
   "name": "python3"
  },
  "language_info": {
   "codemirror_mode": {
    "name": "ipython",
    "version": 3
   },
   "file_extension": ".py",
   "mimetype": "text/x-python",
   "name": "python",
   "nbconvert_exporter": "python",
   "pygments_lexer": "ipython3",
   "version": "3.6.10"
  }
 },
 "nbformat": 4,
 "nbformat_minor": 2
}
